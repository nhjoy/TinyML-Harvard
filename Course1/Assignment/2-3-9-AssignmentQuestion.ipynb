{
  "cells": [
    {
      "cell_type": "markdown",
      "metadata": {
        "id": "iiVBUpuHXEtw"
      },
      "source": [
        "# Create a CNN to classify Cifar-10\n",
        "\n",
        "Learn about Cifar-10 here: https://www.cs.toronto.edu/~kriz/cifar.html\n",
        "\n",
        "In class you saw how to build a Convolutional Neural Network that classified Fashion MNIST. Take what you learned to build a CNN that recognizes the 10 classes of CIFAR. It will be a similar network, but there are some key differences you'll need to take into account.\n",
        "\n",
        "First, while MNIST were 28x28 monochome images (1 color channel), CIFAR are 32x32 color images (3 color channels).\n",
        "\n",
        "Second, MNIST images are simple, containing just the object, centered in the image, with no background. CIFAR ones can have the object with a background -- for example airplanes might have a cloudy sky behind them! As such you should expect your accuracy to be a bit lower. \n",
        "\n",
        "We start by setting up the problem for you."
      ]
    },
    {
      "cell_type": "code",
      "execution_count": 1,
      "metadata": {
        "id": "6OQ_tVTaU3oo",
        "outputId": "14b70b64-54bf-4000-a915-c560f2a88ffa",
        "colab": {
          "base_uri": "https://localhost:8080/"
        }
      },
      "outputs": [
        {
          "output_type": "stream",
          "name": "stdout",
          "text": [
            "Downloading data from https://www.cs.toronto.edu/~kriz/cifar-10-python.tar.gz\n",
            "170500096/170498071 [==============================] - 2s 0us/step\n",
            "170508288/170498071 [==============================] - 2s 0us/step\n"
          ]
        }
      ],
      "source": [
        "import tensorflow as tf\n",
        "from tensorflow import keras\n",
        "from keras import datasets, layers, models\n",
        "import matplotlib.pyplot as plt\n",
        "\n",
        "(train_images, train_labels), (test_images, test_labels) = datasets.cifar10.load_data()\n",
        "\n",
        "# Normalize pixel values to be between 0 and 1\n",
        "train_images = train_images / 255.0\n",
        "test_images = test_images / 255.0\n",
        "\n"
      ]
    },
    {
      "cell_type": "markdown",
      "metadata": {
        "id": "iH3KhmQsI3j0"
      },
      "source": [
        "We then definte some of the model for you but leave most of it for you to fill in! \n",
        "\n",
        "*A hint: your model may want to learn some high level features and then classify them.*"
      ]
    },
    {
      "cell_type": "code",
      "execution_count": 2,
      "metadata": {
        "id": "law2hNzdVA16"
      },
      "outputs": [],
      "source": [
        "FIRST_LAYER = tf.keras.layers.Conv2D(32, (3,3), activation=\"relu\", input_shape=(32,32,3))\n",
        "HIDDEN_LAYER_TYPE_1 = tf.keras.layers.MaxPooling2D(2,2)\n",
        "HIDDEN_LAYER_TYPE_2 = tf.keras.layers.Conv2D(64, (3,3), activation=\"relu\")\n",
        "HIDDEN_LAYER_TYPE_3 = tf.keras.layers.MaxPooling2D(2,2)\n",
        "HIDDEN_LAYER_TYPE_4 = tf.keras.layers.Conv2D(64, (3, 3), activation='relu')\n",
        "HIDDEN_LAYER_TYPE_5 = tf.keras.layers.Dense(64, activation='relu')\n",
        "LAST_LAYER = tf.keras.layers.Dense(10)\n",
        "\n",
        "model = models.Sequential([\n",
        "       FIRST_LAYER,\n",
        "       HIDDEN_LAYER_TYPE_1,\n",
        "       HIDDEN_LAYER_TYPE_2,\n",
        "       HIDDEN_LAYER_TYPE_3,\n",
        "       HIDDEN_LAYER_TYPE_4,\n",
        "       layers.Flatten(),\n",
        "       HIDDEN_LAYER_TYPE_5,\n",
        "       LAST_LAYER,\n",
        "])"
      ]
    },
    {
      "cell_type": "markdown",
      "metadata": {
        "id": "saoA04PEI3j1"
      },
      "source": [
        "You then need to define loss function. And you can then train your model. Once training is done you'll see a plot of training and validation accuracy. You'll know you have a reasonable model with a reasonable loss funciton if your final training accuracy ends up in the 70s (or possibly higher).\n",
        "\n",
        "*A hint: your model may want to learn different categories.*"
      ]
    },
    {
      "cell_type": "code",
      "source": [
        "LOSS = tf.keras.losses.SparseCategoricalCrossentropy(from_logits=True)\n",
        "NUM_EPOCHS = 20 #You can change this value if you like to experiment with it to get better accuracy\n",
        "\n",
        "# Compile the model\n",
        "model.compile(optimizer='sgd',\n",
        "              loss=LOSS,\n",
        "              metrics=['accuracy'])\n",
        "model.summary()"
      ],
      "metadata": {
        "id": "kUw83xZKKc5z",
        "outputId": "948fcf45-6ff5-4736-cba1-e3e0c710fac8",
        "colab": {
          "base_uri": "https://localhost:8080/"
        }
      },
      "execution_count": 3,
      "outputs": [
        {
          "output_type": "stream",
          "name": "stdout",
          "text": [
            "Model: \"sequential\"\n",
            "_________________________________________________________________\n",
            " Layer (type)                Output Shape              Param #   \n",
            "=================================================================\n",
            " conv2d (Conv2D)             (None, 30, 30, 32)        896       \n",
            "                                                                 \n",
            " max_pooling2d (MaxPooling2D  (None, 15, 15, 32)       0         \n",
            " )                                                               \n",
            "                                                                 \n",
            " conv2d_1 (Conv2D)           (None, 13, 13, 64)        18496     \n",
            "                                                                 \n",
            " max_pooling2d_1 (MaxPooling  (None, 6, 6, 64)         0         \n",
            " 2D)                                                             \n",
            "                                                                 \n",
            " conv2d_2 (Conv2D)           (None, 4, 4, 64)          36928     \n",
            "                                                                 \n",
            " flatten (Flatten)           (None, 1024)              0         \n",
            "                                                                 \n",
            " dense (Dense)               (None, 64)                65600     \n",
            "                                                                 \n",
            " dense_1 (Dense)             (None, 10)                650       \n",
            "                                                                 \n",
            "=================================================================\n",
            "Total params: 122,570\n",
            "Trainable params: 122,570\n",
            "Non-trainable params: 0\n",
            "_________________________________________________________________\n"
          ]
        }
      ]
    },
    {
      "cell_type": "code",
      "execution_count": 4,
      "metadata": {
        "id": "Dxq2JU7dVIEX",
        "outputId": "12c3947e-5a03-415b-b9bc-e97c01d322ee",
        "colab": {
          "base_uri": "https://localhost:8080/",
          "height": 1000
        }
      },
      "outputs": [
        {
          "output_type": "stream",
          "name": "stdout",
          "text": [
            "Epoch 1/20\n",
            "1563/1563 [==============================] - 25s 9ms/step - loss: 2.0463 - accuracy: 0.2513 - val_loss: 1.7805 - val_accuracy: 0.3663\n",
            "Epoch 2/20\n",
            "1563/1563 [==============================] - 13s 8ms/step - loss: 1.6302 - accuracy: 0.4134 - val_loss: 1.5380 - val_accuracy: 0.4419\n",
            "Epoch 3/20\n",
            "1563/1563 [==============================] - 13s 8ms/step - loss: 1.4490 - accuracy: 0.4768 - val_loss: 1.4346 - val_accuracy: 0.4844\n",
            "Epoch 4/20\n",
            "1563/1563 [==============================] - 13s 8ms/step - loss: 1.3453 - accuracy: 0.5181 - val_loss: 1.3390 - val_accuracy: 0.5212\n",
            "Epoch 5/20\n",
            "1563/1563 [==============================] - 13s 8ms/step - loss: 1.2608 - accuracy: 0.5521 - val_loss: 1.2544 - val_accuracy: 0.5493\n",
            "Epoch 6/20\n",
            "1563/1563 [==============================] - 13s 8ms/step - loss: 1.1898 - accuracy: 0.5804 - val_loss: 1.1649 - val_accuracy: 0.5890\n",
            "Epoch 7/20\n",
            "1563/1563 [==============================] - 13s 8ms/step - loss: 1.1279 - accuracy: 0.6034 - val_loss: 1.1496 - val_accuracy: 0.5961\n",
            "Epoch 8/20\n",
            "1563/1563 [==============================] - 13s 8ms/step - loss: 1.0755 - accuracy: 0.6228 - val_loss: 1.0734 - val_accuracy: 0.6279\n",
            "Epoch 9/20\n",
            "1563/1563 [==============================] - 13s 8ms/step - loss: 1.0282 - accuracy: 0.6403 - val_loss: 1.1132 - val_accuracy: 0.6080\n",
            "Epoch 10/20\n",
            "1563/1563 [==============================] - 13s 8ms/step - loss: 0.9869 - accuracy: 0.6551 - val_loss: 1.0323 - val_accuracy: 0.6395\n",
            "Epoch 11/20\n",
            "1563/1563 [==============================] - 13s 8ms/step - loss: 0.9485 - accuracy: 0.6698 - val_loss: 1.0453 - val_accuracy: 0.6400\n",
            "Epoch 12/20\n",
            "1563/1563 [==============================] - 13s 8ms/step - loss: 0.9095 - accuracy: 0.6834 - val_loss: 1.0120 - val_accuracy: 0.6452\n",
            "Epoch 13/20\n",
            "1563/1563 [==============================] - 13s 8ms/step - loss: 0.8785 - accuracy: 0.6952 - val_loss: 1.0416 - val_accuracy: 0.6399\n",
            "Epoch 14/20\n",
            "1563/1563 [==============================] - 13s 8ms/step - loss: 0.8447 - accuracy: 0.7039 - val_loss: 0.9834 - val_accuracy: 0.6594\n",
            "Epoch 15/20\n",
            "1563/1563 [==============================] - 13s 8ms/step - loss: 0.8148 - accuracy: 0.7150 - val_loss: 0.9357 - val_accuracy: 0.6770\n",
            "Epoch 16/20\n",
            "1563/1563 [==============================] - 12s 8ms/step - loss: 0.7879 - accuracy: 0.7253 - val_loss: 1.0349 - val_accuracy: 0.6499\n",
            "Epoch 17/20\n",
            "1563/1563 [==============================] - 13s 8ms/step - loss: 0.7596 - accuracy: 0.7346 - val_loss: 0.9910 - val_accuracy: 0.6609\n",
            "Epoch 18/20\n",
            "1563/1563 [==============================] - 13s 8ms/step - loss: 0.7338 - accuracy: 0.7444 - val_loss: 0.9257 - val_accuracy: 0.6825\n",
            "Epoch 19/20\n",
            "1563/1563 [==============================] - 13s 8ms/step - loss: 0.7084 - accuracy: 0.7549 - val_loss: 0.9976 - val_accuracy: 0.6666\n",
            "Epoch 20/20\n",
            "1563/1563 [==============================] - 13s 8ms/step - loss: 0.6841 - accuracy: 0.7624 - val_loss: 0.9439 - val_accuracy: 0.6818\n"
          ]
        },
        {
          "output_type": "display_data",
          "data": {
            "image/png": "[encoded data removed]",
            "text/plain": [
              "<Figure size 432x288 with 1 Axes>"
            ]
          },
          "metadata": {
            "needs_background": "light"
          }
        }
      ],
      "source": [
        "\n",
        "# Fit the model\n",
        "history = model.fit(train_images, train_labels, epochs=NUM_EPOCHS, \n",
        "                    validation_data=(test_images, test_labels))\n",
        "\n",
        "# summarize history for accuracy\n",
        "plt.plot(history.history['accuracy'])\n",
        "plt.plot(history.history['val_accuracy'])\n",
        "plt.title('model accuracy')\n",
        "plt.ylabel('accuracy')\n",
        "plt.xlabel('epoch')\n",
        "plt.legend(['train', 'test'], loc='upper left')\n",
        "plt.xlim([0,NUM_EPOCHS])\n",
        "plt.ylim([0.4,1.0])\n",
        "plt.show()"
      ]
    },
    {
      "cell_type": "markdown",
      "metadata": {
        "id": "_HLpwgHbI3j3"
      },
      "source": [
        "Finally, pick a better optimizer. And re-train your model. You'll know you have a reasonable model with a reasonable loss funciton and optimizer if your final training accuracy ends up in the 80s (or possibly higher).\n",
        "\n",
        "*A hint: your model may want to learn adaptively.*"
      ]
    },
    {
      "cell_type": "code",
      "execution_count": 5,
      "metadata": {
        "id": "6RW8MFFuI3j4",
        "outputId": "acd3bda1-9283-4dfb-8616-4271c7331b24",
        "colab": {
          "base_uri": "https://localhost:8080/",
          "height": 1000
        }
      },
      "outputs": [
        {
          "output_type": "stream",
          "name": "stdout",
          "text": [
            "Epoch 1/20\n",
            "1563/1563 [==============================] - 14s 8ms/step - loss: 0.8782 - accuracy: 0.6936 - val_loss: 0.9653 - val_accuracy: 0.6662\n",
            "Epoch 2/20\n",
            "1563/1563 [==============================] - 13s 8ms/step - loss: 0.7775 - accuracy: 0.7293 - val_loss: 0.9005 - val_accuracy: 0.6855\n",
            "Epoch 3/20\n",
            "1563/1563 [==============================] - 13s 8ms/step - loss: 0.6972 - accuracy: 0.7577 - val_loss: 0.8980 - val_accuracy: 0.6938\n",
            "Epoch 4/20\n",
            "1563/1563 [==============================] - 13s 8ms/step - loss: 0.6246 - accuracy: 0.7810 - val_loss: 0.8838 - val_accuracy: 0.7070\n",
            "Epoch 5/20\n",
            "1563/1563 [==============================] - 13s 8ms/step - loss: 0.5573 - accuracy: 0.8038 - val_loss: 0.8922 - val_accuracy: 0.7092\n",
            "Epoch 6/20\n",
            "1563/1563 [==============================] - 13s 8ms/step - loss: 0.4938 - accuracy: 0.8252 - val_loss: 0.9747 - val_accuracy: 0.6974\n",
            "Epoch 7/20\n",
            "1563/1563 [==============================] - 13s 8ms/step - loss: 0.4399 - accuracy: 0.8443 - val_loss: 1.0013 - val_accuracy: 0.7026\n",
            "Epoch 8/20\n",
            "1563/1563 [==============================] - 13s 8ms/step - loss: 0.3851 - accuracy: 0.8634 - val_loss: 1.0510 - val_accuracy: 0.7012\n",
            "Epoch 9/20\n",
            "1563/1563 [==============================] - 13s 8ms/step - loss: 0.3438 - accuracy: 0.8773 - val_loss: 1.1457 - val_accuracy: 0.6893\n",
            "Epoch 10/20\n",
            "1563/1563 [==============================] - 13s 8ms/step - loss: 0.3058 - accuracy: 0.8915 - val_loss: 1.1694 - val_accuracy: 0.6955\n",
            "Epoch 11/20\n",
            "1563/1563 [==============================] - 13s 8ms/step - loss: 0.2771 - accuracy: 0.9001 - val_loss: 1.2708 - val_accuracy: 0.6951\n",
            "Epoch 12/20\n",
            "1563/1563 [==============================] - 13s 8ms/step - loss: 0.2476 - accuracy: 0.9125 - val_loss: 1.3095 - val_accuracy: 0.6962\n",
            "Epoch 13/20\n",
            "1563/1563 [==============================] - 13s 8ms/step - loss: 0.2240 - accuracy: 0.9207 - val_loss: 1.4476 - val_accuracy: 0.6908\n",
            "Epoch 14/20\n",
            "1563/1563 [==============================] - 13s 8ms/step - loss: 0.2114 - accuracy: 0.9241 - val_loss: 1.4338 - val_accuracy: 0.7006\n",
            "Epoch 15/20\n",
            "1563/1563 [==============================] - 13s 8ms/step - loss: 0.1864 - accuracy: 0.9332 - val_loss: 1.5937 - val_accuracy: 0.6900\n",
            "Epoch 16/20\n",
            "1563/1563 [==============================] - 13s 8ms/step - loss: 0.1831 - accuracy: 0.9341 - val_loss: 1.6388 - val_accuracy: 0.6901\n",
            "Epoch 17/20\n",
            "1563/1563 [==============================] - 13s 8ms/step - loss: 0.1668 - accuracy: 0.9401 - val_loss: 1.6615 - val_accuracy: 0.6920\n",
            "Epoch 18/20\n",
            "1563/1563 [==============================] - 13s 8ms/step - loss: 0.1572 - accuracy: 0.9440 - val_loss: 1.7825 - val_accuracy: 0.6869\n",
            "Epoch 19/20\n",
            "1563/1563 [==============================] - 13s 8ms/step - loss: 0.1529 - accuracy: 0.9462 - val_loss: 1.7782 - val_accuracy: 0.6911\n",
            "Epoch 20/20\n",
            "1563/1563 [==============================] - 13s 8ms/step - loss: 0.1448 - accuracy: 0.9488 - val_loss: 1.8742 - val_accuracy: 0.6866\n"
          ]
        },
        {
          "output_type": "display_data",
          "data": {
            "image/png": "[encoded data removed]",
            "text/plain": [
              "<Figure size 432x288 with 1 Axes>"
            ]
          },
          "metadata": {
            "needs_background": "light"
          }
        }
      ],
      "source": [
        "OPTIMIZER = 'adam'\n",
        "\n",
        "# Compile the model\n",
        "model.compile(optimizer=OPTIMIZER,\n",
        "              loss=LOSS,\n",
        "              metrics=['accuracy'])\n",
        "\n",
        "# Fit the model\n",
        "history = model.fit(train_images, train_labels, epochs=NUM_EPOCHS, \n",
        "                    validation_data=(test_images, test_labels))\n",
        "\n",
        "# summarize history for accuracy\n",
        "plt.plot(history.history['accuracy'])\n",
        "plt.plot(history.history['val_accuracy'])\n",
        "plt.title('model accuracy')\n",
        "plt.ylabel('accuracy')\n",
        "plt.xlabel('epoch')\n",
        "plt.legend(['train', 'test'], loc='upper left')\n",
        "plt.xlim([0,NUM_EPOCHS])\n",
        "plt.ylim([0.4,1.0])\n",
        "plt.show()"
      ]
    }
  ],
  "metadata": {
    "accelerator": "GPU",
    "colab": {
      "name": "2-3-9-Question.ipynb",
      "provenance": []
    },
    "kernelspec": {
      "display_name": "Python 3",
      "language": "python",
      "name": "python3"
    },
    "language_info": {
      "codemirror_mode": {
        "name": "ipython",
        "version": 3
      },
      "file_extension": ".py",
      "mimetype": "text/x-python",
      "name": "python",
      "nbconvert_exporter": "python",
      "pygments_lexer": "ipython3",
      "version": "3.6.9"
    }
  },
  "nbformat": 4,
  "nbformat_minor": 0
}